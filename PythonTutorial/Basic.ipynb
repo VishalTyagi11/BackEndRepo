{
 "cells": [
  {
   "cell_type": "code",
   "execution_count": 2,
   "metadata": {},
   "outputs": [
    {
     "name": "stdout",
     "output_type": "stream",
     "text": [
      "5 5\n"
     ]
    }
   ],
   "source": [
    "#camelCase\n",
    "myName = 5\n",
    "\n",
    "#snake_Case\n",
    "my_name=5\n",
    "\n",
    "print(myName, my_name)"
   ]
  },
  {
   "cell_type": "code",
   "execution_count": 3,
   "metadata": {},
   "outputs": [
    {
     "name": "stdout",
     "output_type": "stream",
     "text": [
      "10 10 10\n",
      "10 11 12\n"
     ]
    }
   ],
   "source": [
    "a=b=c=10\n",
    "print(a,b,c)\n",
    "\n",
    "d,e,f=10,11,12\n",
    "print(d,e,f)"
   ]
  },
  {
   "cell_type": "code",
   "execution_count": 4,
   "metadata": {},
   "outputs": [
    {
     "name": "stdout",
     "output_type": "stream",
     "text": [
      "25\n"
     ]
    },
    {
     "ename": "NameError",
     "evalue": "name 'z' is not defined",
     "output_type": "error",
     "traceback": [
      "\u001b[0;31m---------------------------------------------------------------------------\u001b[0m",
      "\u001b[0;31mNameError\u001b[0m                                 Traceback (most recent call last)",
      "Cell \u001b[0;32mIn[4], line 4\u001b[0m\n\u001b[1;32m      2\u001b[0m \u001b[39mprint\u001b[39m(z)\n\u001b[1;32m      3\u001b[0m \u001b[39mdel\u001b[39;00m z\n\u001b[0;32m----> 4\u001b[0m \u001b[39mprint\u001b[39m(z)\n",
      "\u001b[0;31mNameError\u001b[0m: name 'z' is not defined"
     ]
    }
   ],
   "source": [
    "z=25\n",
    "print(z)\n",
    "del z\n",
    "print(z)"
   ]
  },
  {
   "cell_type": "code",
   "execution_count": null,
   "metadata": {},
   "outputs": [
    {
     "name": "stdout",
     "output_type": "stream",
     "text": [
      "Type of name variable is: <class 'str'>. It should be <class 'str'>\n",
      "Type of age variable is: <class 'int'>. It should be <class 'int'>\n",
      "Type of height variable is: <class 'float'>. It should be <class 'float'>\n",
      "Type of loyalty variable is: <class 'bool'>. It should be <class 'bool'>\n"
     ]
    }
   ],
   "source": [
    "# Using explicit type conversion, change the following \n",
    "# inputs so the types match with the following below\n",
    "#  \n",
    "# name = type string\n",
    "# age = type int\n",
    "# height = type float\n",
    "# loyalty = type boolean\n",
    "\n",
    "# Modify the line below\n",
    "name = str(input('What is your name? '))\n",
    "print(f\"Type of name variable is: {type(name)}. It should be <class 'str'>\")\n",
    "\n",
    "# Modify the line below\n",
    "age = int(input('What is your age? '))\n",
    "print(f\"Type of age variable is: {type(age)}. It should be <class 'int'>\")\n",
    "\n",
    "# Modify the line below\n",
    "height = float(input('What is your height in meters? '))\n",
    "\n",
    "print(f\"Type of height variable is: {type(height)}. It should be <class 'float'>\")\n",
    "\n",
    "# Modify the line below\n",
    "loyalty = bool(input('Are you part of our loyalty program? '))\n",
    "\n",
    "print(f\"Type of loyalty variable is: {type(loyalty)}. It should be <class 'bool'>\")"
   ]
  }
 ],
 "metadata": {
  "kernelspec": {
   "display_name": "base",
   "language": "python",
   "name": "python3"
  },
  "language_info": {
   "codemirror_mode": {
    "name": "ipython",
    "version": 3
   },
   "file_extension": ".py",
   "mimetype": "text/x-python",
   "name": "python",
   "nbconvert_exporter": "python",
   "pygments_lexer": "ipython3",
   "version": "3.10.9"
  },
  "orig_nbformat": 4,
  "vscode": {
   "interpreter": {
    "hash": "e77afff39b2efc96d2db2766d8093d7fe4503fc0ba8e22197c8aa67052b95eed"
   }
  }
 },
 "nbformat": 4,
 "nbformat_minor": 2
}
