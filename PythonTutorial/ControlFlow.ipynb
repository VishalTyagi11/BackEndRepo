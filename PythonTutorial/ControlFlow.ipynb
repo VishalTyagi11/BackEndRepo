{
 "cells": [
  {
   "cell_type": "code",
   "execution_count": 2,
   "metadata": {},
   "outputs": [
    {
     "name": "stdout",
     "output_type": "stream",
     "text": [
      "Turning light on\n"
     ]
    }
   ],
   "source": [
    "#Light is currently off\n",
    "current = False\n",
    "\n",
    "if current:\n",
    "    current = False\n",
    "    print('Turning light off')\n",
    "\n",
    "if not current:\n",
    "    current = True\n",
    "    print('Turning light on')\n"
   ]
  },
  {
   "cell_type": "code",
   "execution_count": 3,
   "metadata": {},
   "outputs": [
    {
     "name": "stdout",
     "output_type": "stream",
     "text": [
      "Total Bill:  99.2\n"
     ]
    }
   ],
   "source": [
    "loyalty_customer = True\n",
    "total_bill = 124\n",
    "\n",
    "if loyalty_customer and total_bill > 100:\n",
    "    #give 20% discount\n",
    "    total_bill = total_bill - (float(total_bill)/ 100) * 20\n",
    "elif total_bill > 100:\n",
    "    #give 10% discount\n",
    "    total_bill = total_bill - (float(total_bill)/ 100) * 10\n",
    "else:\n",
    "    #sorry no discount, 5% service charge applied.\n",
    "    print('Sorry, no discount ...')\n",
    "\n",
    "print('Total Bill: ', float(total_bill))"
   ]
  },
  {
   "cell_type": "code",
   "execution_count": 4,
   "metadata": {},
   "outputs": [
    {
     "name": "stdout",
     "output_type": "stream",
     "text": [
      "One of my favorite desserts is Creme Brulee\n",
      "One of my favorite desserts is Apple Pie\n",
      "One of my favorite desserts is Churros\n",
      "One of my favorite desserts is Tiramisú\n",
      "One of my favorite desserts is Chocolate Cake\n"
     ]
    }
   ],
   "source": [
    "favorites = ['Creme Brulee', 'Apple Pie', 'Churros', 'Tiramisú', 'Chocolate Cake']\n",
    "\n",
    "for dessert in favorites:\n",
    "    print('One of my favorite desserts is', dessert)\n",
    "\n"
   ]
  },
  {
   "cell_type": "code",
   "execution_count": 5,
   "metadata": {},
   "outputs": [
    {
     "name": "stdout",
     "output_type": "stream",
     "text": [
      "One of my favorite desserts is Creme Brulee\n",
      "One of my favorite desserts is Apple Pie\n",
      "One of my favorite desserts is Churros\n",
      "One of my favorite desserts is Tiramisú\n",
      "One of my favorite desserts is Chocolate Cake\n"
     ]
    }
   ],
   "source": [
    "favorites = ['Creme Brulee', 'Apple Pie', 'Churros', 'Tiramisú', 'Chocolate Cake']\n",
    "\n",
    "count = 0\n",
    "\n",
    "while count < len(favorites):\n",
    "    print('One of my favorite desserts is', favorites[count]);\n",
    "    count += 1"
   ]
  },
  {
   "cell_type": "code",
   "execution_count": 6,
   "metadata": {},
   "outputs": [
    {
     "name": "stdout",
     "output_type": "stream",
     "text": [
      "Other desserts I like are Creme Brulee\n",
      "Other desserts I like are Apple Pie\n",
      "Other desserts I like are Churros\n",
      "Other desserts I like are Tiramisú\n",
      "Other desserts I like are Chocolate Cake\n"
     ]
    }
   ],
   "source": [
    "#Starter Code\n",
    "favorites = ['Creme Brulee', 'Apple Pie', 'Churros', 'Tiramisú', 'Chocolate Cake']\n",
    "\n",
    "for dessert in favorites:\n",
    "    if dessert == 'Churros':\n",
    "        pass\n",
    "    print('Other desserts I like are', dessert) "
   ]
  },
  {
   "cell_type": "code",
   "execution_count": null,
   "metadata": {},
   "outputs": [],
   "source": []
  }
 ],
 "metadata": {
  "kernelspec": {
   "display_name": "ros_humble",
   "language": "python",
   "name": "python3"
  },
  "language_info": {
   "codemirror_mode": {
    "name": "ipython",
    "version": 3
   },
   "file_extension": ".py",
   "mimetype": "text/x-python",
   "name": "python",
   "nbconvert_exporter": "python",
   "pygments_lexer": "ipython3",
   "version": "3.9.15"
  },
  "orig_nbformat": 4,
  "vscode": {
   "interpreter": {
    "hash": "5fc36b063647eb54160186ffa0cdde37cbf907637795c3282e0962d79ef63664"
   }
  }
 },
 "nbformat": 4,
 "nbformat_minor": 2
}
