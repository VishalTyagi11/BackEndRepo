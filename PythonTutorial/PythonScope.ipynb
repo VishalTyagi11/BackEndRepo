{
 "cells": [
  {
   "cell_type": "code",
   "execution_count": 6,
   "metadata": {},
   "outputs": [
    {
     "name": "stdout",
     "output_type": "stream",
     "text": [
      "7\n"
     ]
    },
    {
     "ename": "NameError",
     "evalue": "name 'total' is not defined",
     "output_type": "error",
     "traceback": [
      "\u001b[0;31m---------------------------------------------------------------------------\u001b[0m",
      "\u001b[0;31mNameError\u001b[0m                                 Traceback (most recent call last)",
      "Cell \u001b[0;32mIn[6], line 9\u001b[0m\n\u001b[1;32m      6\u001b[0m \u001b[39mprint\u001b[39m(get_total(\u001b[39m5\u001b[39m, \u001b[39m2\u001b[39m))\n\u001b[1;32m      8\u001b[0m \u001b[39m# Accessing variable outside of the function:\u001b[39;00m\n\u001b[0;32m----> 9\u001b[0m \u001b[39mprint\u001b[39m(total)\n",
      "\u001b[0;31mNameError\u001b[0m: name 'total' is not defined"
     ]
    }
   ],
   "source": [
    "def get_total(a, b):\n",
    "    #local variable declared inside a function\n",
    "    total = a + b;\n",
    "    return total\n",
    "\n",
    "print(get_total(5, 2))\n",
    "\n",
    "# Accessing variable outside of the function:\n",
    "print(total)"
   ]
  },
  {
   "cell_type": "code",
   "execution_count": 1,
   "metadata": {},
   "outputs": [],
   "source": [
    "def get_total(a, b):\n",
    "    #enclosed variable declared inside a function\n",
    "    total = a + b\n",
    "\n",
    "    def double_it():\n",
    "        #local variable\n",
    "        double = total * 2\n",
    "        print(double)\n",
    "\n",
    "    double_it()\n",
    "    #double variable will not be accessible\n",
    "    print(double)\n",
    "\n",
    "    return total"
   ]
  },
  {
   "cell_type": "code",
   "execution_count": 2,
   "metadata": {},
   "outputs": [],
   "source": [
    "\n",
    "special = 5\n",
    "\n",
    "def get_total(a, b):\n",
    "    #enclosed scope variable declared inside a function\n",
    "    total = a + b\n",
    "    print(special)\n",
    "\n",
    "    def double_it():\n",
    "        #local variable\n",
    "        double = total * 2\n",
    "        print(special)\n",
    "\n",
    "    double_it()\n",
    "\n",
    "    return total\n",
    "    "
   ]
  },
  {
   "cell_type": "code",
   "execution_count": null,
   "metadata": {},
   "outputs": [],
   "source": []
  }
 ],
 "metadata": {
  "kernelspec": {
   "display_name": "base",
   "language": "python",
   "name": "python3"
  },
  "language_info": {
   "codemirror_mode": {
    "name": "ipython",
    "version": 3
   },
   "file_extension": ".py",
   "mimetype": "text/x-python",
   "name": "python",
   "nbconvert_exporter": "python",
   "pygments_lexer": "ipython3",
   "version": "3.10.9"
  },
  "orig_nbformat": 4,
  "vscode": {
   "interpreter": {
    "hash": "e77afff39b2efc96d2db2766d8093d7fe4503fc0ba8e22197c8aa67052b95eed"
   }
  }
 },
 "nbformat": 4,
 "nbformat_minor": 2
}
