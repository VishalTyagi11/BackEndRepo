{
 "cells": [
  {
   "cell_type": "code",
   "execution_count": 8,
   "metadata": {},
   "outputs": [
    {
     "name": "stdout",
     "output_type": "stream",
     "text": [
      "[1, 2, 3, 4, 5, 7, 8, 'a', 'b', 'c', 'd']\n",
      "[1, 2, 3, 4, 5, 7, 8, 'a', 'b', 'c']\n",
      "[1, 3, 4, 5, 7, 8, 'a', 'b', 'c']\n",
      "Item at index  0  is  1\n",
      "Item at index  1  is  3\n",
      "Item at index  2  is  4\n",
      "Item at index  3  is  5\n",
      "Item at index  4  is  7\n",
      "Item at index  5  is  8\n",
      "Item at index  6  is  a\n",
      "Item at index  7  is  b\n",
      "Item at index  8  is  c\n"
     ]
    }
   ],
   "source": [
    "#Lists(Dynamic arrays)\n",
    "\n",
    "#Initialize the list\n",
    "list1 = [1, 2, 3, 4, 5]\n",
    "list2= ['a','b','c','d']\n",
    "list3=['a',1,'b',2, True, 45.36]\n",
    "list4=[1,[2,3,4,5],6,7]\n",
    "\n",
    "#Adding items in a list\n",
    "list1.insert(len(list1), 7)\n",
    "list1.append(8)\n",
    "list1.extend(['a','b','c','d'])\n",
    "print(list1, sep=', ', end='\\n')\n",
    "\n",
    "#Removing items in a list\n",
    "list1.pop(len(list1)-1)\n",
    "print(list1, sep=', ')\n",
    "del list1[1]\n",
    "print(list1, sep=',')\n",
    "\n",
    "#Accessing items in a list\n",
    "for i in range(0,len(list1)):\n",
    "    print(\"Item at index \",i,\" is \", list1[i])"
   ]
  },
  {
   "cell_type": "code",
   "execution_count": 10,
   "metadata": {},
   "outputs": [
    {
     "name": "stdout",
     "output_type": "stream",
     "text": [
      "2\n",
      "1\n",
      "2\n",
      "3\n",
      "a\n",
      "b\n",
      "c\n",
      "True\n",
      "5.63\n",
      "1\n",
      "2\n",
      "3\n",
      "a\n",
      "b\n",
      "c\n",
      "True\n",
      "5.63\n"
     ]
    }
   ],
   "source": [
    "#tuples immutable list\n",
    "\n",
    "#Initialize the tuples\n",
    "tuple1 = (1, 2, 3,'a', 'b', 'c',True, 5.63)\n",
    "tuple2= 1,2,3,'a', 'b', 'c',\n",
    "print(tuple1[1])\n",
    "\n",
    "#Traverse the tuples and print\n",
    "for i in tuple1:\n",
    "    print(i)\n",
    "\n",
    "for i in range(len(tuple1)):\n",
    "    print(tuple1[i])\n"
   ]
  },
  {
   "cell_type": "code",
   "execution_count": null,
   "metadata": {},
   "outputs": [],
   "source": [
    "#Sets(List with No duplicates)\n",
    "\n",
    "#Initialize the set\n",
    "set1={1,2,3,4,5,6,7,8}\n",
    "set2={'a','b','c','d'}\n",
    "\n",
    "#Add the elements to the set\n",
    "set1.add(9)\n",
    "print(set1)\n",
    "\n",
    "#Remove the elements from the set\n",
    "set1.remove(9)\n",
    "set1.discard(8)\n",
    "print(set1)\n",
    "\n",
    "#operations on the set\n",
    "print(\"Union of sets: \", set1.union(set2))\n",
    "print(\"Union of sets, method 2 with | operator: \", set1 | set2)\n",
    "print(\"Intersection of sets: \", set1.intersection(set2))"
   ]
  }
 ],
 "metadata": {
  "kernelspec": {
   "display_name": "base",
   "language": "python",
   "name": "python3"
  },
  "language_info": {
   "codemirror_mode": {
    "name": "ipython",
    "version": 3
   },
   "file_extension": ".py",
   "mimetype": "text/x-python",
   "name": "python",
   "nbconvert_exporter": "python",
   "pygments_lexer": "ipython3",
   "version": "3.10.9"
  },
  "orig_nbformat": 4,
  "vscode": {
   "interpreter": {
    "hash": "e77afff39b2efc96d2db2766d8093d7fe4503fc0ba8e22197c8aa67052b95eed"
   }
  }
 },
 "nbformat": 4,
 "nbformat_minor": 2
}
